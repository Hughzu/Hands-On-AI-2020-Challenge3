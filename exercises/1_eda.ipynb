{
 "metadata": {
  "language_info": {
   "codemirror_mode": {
    "name": "ipython",
    "version": 3
   },
   "file_extension": ".py",
   "mimetype": "text/x-python",
   "name": "python",
   "nbconvert_exporter": "python",
   "pygments_lexer": "ipython3",
   "version": "3.7.4-final"
  },
  "orig_nbformat": 2,
  "kernelspec": {
   "name": "python3",
   "display_name": "Python 3"
  }
 },
 "nbformat": 4,
 "nbformat_minor": 2,
 "cells": [
  {
   "source": [
    "# Introduction to time series analysis and forecasting\n",
    "\n",
    "The dataset consists of multipe time series representing an aggregated number of daily views for multiple Wikipedia articles, starting from July, 1st, 2015 up until August 2Oth, 2017.\n",
    "\n"
   ],
   "cell_type": "markdown",
   "metadata": {}
  },
  {
   "cell_type": "code",
   "execution_count": null,
   "metadata": {},
   "outputs": [],
   "source": [
    "import pandas as pd\n",
    "import numpy as np\n",
    "import matplotlib.pyplot as plt\n",
    "import os\n",
    "from main.utils.utils_methods import clean\n"
   ]
  },
  {
   "cell_type": "code",
   "execution_count": null,
   "metadata": {},
   "outputs": [],
   "source": [
    "# Import the 90 traffiic time series\n",
    "data = pd.read_csv(\"../compet_data/public/train.csv\", index_col = \"Day\", parse_dates = True)\n",
    "data = data.asfreq(\"D\")\n",
    "data.head()"
   ]
  },
  {
   "cell_type": "code",
   "execution_count": null,
   "metadata": {},
   "outputs": [],
   "source": [
    "# Choose the time series to work with: \"series-1\", \"series-2\", ..., \"series-90\" \n",
    "# Reapeat the analysis for multiple series\n",
    "myts = \"series-10\"\n",
    "DT = data[myts]\n",
    "DT.plot()\n"
   ]
  },
  {
   "source": [
    "Read the code associated to the function \"clean\", and briefly describe what it is doing."
   ],
   "cell_type": "markdown",
   "metadata": {}
  },
  {
   "cell_type": "code",
   "execution_count": null,
   "metadata": {},
   "outputs": [],
   "source": [
    "    series = DT\n",
    "    series_cleaned_1, outliers_1 = clean(series)\n",
    "    series_cleaned_2, outliers_2 = clean(series_cleaned_1)\n",
    "\n",
    "    plt.subplot(3, 1, 1)\n",
    "    plt.plot(series)\n",
    "    plt.plot(series.loc[outliers_1], 'ro')\n",
    "\n",
    "    plt.subplot(3, 1, 2)\n",
    "    plt.plot(series_cleaned_1)\n",
    "    plt.plot(series_cleaned_1.loc[outliers_2], 'ro')\n",
    "\n",
    "    plt.subplot(3, 1, 3)\n",
    "    plt.plot(series_cleaned_2)"
   ]
  },
  {
   "cell_type": "code",
   "execution_count": null,
   "metadata": {},
   "outputs": [],
   "source": [
    "# Handle outliers\n",
    "DT_cleaned_1, _ = clean(DT)\n",
    "DT_cleaned_2, _ = clean(DT_cleaned_1)\n",
    "DT.loc[:] = DT_cleaned_2\n",
    "DT.plot()\n"
   ]
  },
  {
   "cell_type": "code",
   "execution_count": null,
   "metadata": {},
   "outputs": [],
   "source": [
    "DT = DT.to_frame()\n",
    "DT[\"d\"] = data.index.day.to_numpy()\n",
    "DT[\"m\"] = data.index.month.to_numpy()\n",
    "DT[\"y\"] = data.index.year.to_numpy()\n",
    "DT[\"w\"] = data.index.weekday.to_numpy()\n",
    "DT[\"wy\"] = data.index.weekofyear.to_numpy()\n",
    "DT.head()"
   ]
  },
  {
   "source": [
    "# Seasonal plots\n",
    "\n",
    "The following code shows how to compute a seasonal plot (for the day of the month)."
   ],
   "cell_type": "markdown",
   "metadata": {}
  },
  {
   "cell_type": "code",
   "execution_count": null,
   "metadata": {},
   "outputs": [],
   "source": [
    "## Day of the month\n",
    "patterns_day_month = DT[[myts, \"d\", \"m\", \"y\"]].pivot_table(index=['d'], columns=['m', 'y'])\n",
    "plt.plot(patterns_day_month)\n",
    "plt.show()\n",
    "\n",
    "# Average seasonal pattern\n",
    "patterns = patterns_day_month.div(patterns_day_month.median(axis=1), axis=0)\n",
    "avg_day_month = np.nanmean(patterns, axis = 1)\n",
    "std_day_month = np.nanstd(patterns, axis = 1)\n",
    "plt.plot(pd.DataFrame({\"avg\": avg_day_month, \"std+\": avg_day_month +  std_day_month, \"std-\": avg_day_month -  std_day_month}))\n",
    "plt.show()"
   ]
  },
  {
   "source": [
    "Using the previous code, produce a seasonal plot for the day of the week."
   ],
   "cell_type": "markdown",
   "metadata": {}
  },
  {
   "source": [
    "# Lag plot\n",
    "Produce lagged scatterplots for multiple lags. What do you observe? Add the diagonal for a better visualization."
   ],
   "cell_type": "markdown",
   "metadata": {}
  },
  {
   "cell_type": "code",
   "execution_count": null,
   "metadata": {},
   "outputs": [],
   "source": [
    "# Use pd.shift"
   ]
  },
  {
   "source": [
    "## Autocorrelation\n",
    "Plot the autocorrelation function (ACF) for the first 20 lags, and interpret the results. \n",
    "Recompute the ACF after applying a seasonal difference. \n",
    "\n",
    "\n"
   ],
   "cell_type": "markdown",
   "metadata": {}
  },
  {
   "cell_type": "code",
   "execution_count": null,
   "metadata": {},
   "outputs": [],
   "source": [
    "from statsmodels.tsa.stattools import acf \n",
    "from statsmodels.graphics.tsaplots import plot_acf\n",
    "# Use np.diff\n"
   ]
  },
  {
   "source": [
    "## White noise process\n",
    "\n",
    "- Generate a time series with 500 observations from a white noise process with zero mean and unit standard deviation.\n",
    "- Plot the tiime series\n",
    "- Compute and plot the ACF for 50 lags\n",
    "- Did you expect to see such results? Why?\n",
    "\n"
   ],
   "cell_type": "markdown",
   "metadata": {}
  },
  {
   "cell_type": "code",
   "execution_count": null,
   "metadata": {},
   "outputs": [],
   "source": [
    "# use np.random.normal and plot_acf"
   ]
  },
  {
   "source": [
    "## Transformations"
   ],
   "cell_type": "markdown",
   "metadata": {}
  },
  {
   "source": [
    "Compute various Box-Cox transformations. Which one do you think is more appropriate?"
   ],
   "cell_type": "markdown",
   "metadata": {}
  },
  {
   "cell_type": "code",
   "execution_count": null,
   "metadata": {},
   "outputs": [],
   "source": [
    "from scipy.stats import boxcox\n",
    "\n",
    "\n"
   ]
  },
  {
   "source": [
    "# Time series decomposition\n",
    "Decompose the time series into trend, seasonal and remainder components. Does it help you to understand the data?"
   ],
   "cell_type": "markdown",
   "metadata": {}
  },
  {
   "cell_type": "code",
   "execution_count": null,
   "metadata": {},
   "outputs": [],
   "source": [
    "from statsmodels.tsa.seasonal import seasonal_decompose\n"
   ]
  },
  {
   "cell_type": "code",
   "execution_count": null,
   "metadata": {},
   "outputs": [],
   "source": [
    "# STL decomposition\n",
    "from statsmodels.tsa.seasonal import STL"
   ]
  },
  {
   "source": [
    "# Simple forecasting methods\n",
    "- Produce forecasts for the next 21 days using simple methods. \n",
    "- Analyze the residuals. \n",
    "- Compare the forecast accuracy for different accuracy measures."
   ],
   "cell_type": "markdown",
   "metadata": {}
  }
 ]
}