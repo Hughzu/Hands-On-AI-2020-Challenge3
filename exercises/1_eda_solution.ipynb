{
 "metadata": {
  "language_info": {
   "codemirror_mode": {
    "name": "ipython",
    "version": 3
   },
   "file_extension": ".py",
   "mimetype": "text/x-python",
   "name": "python",
   "nbconvert_exporter": "python",
   "pygments_lexer": "ipython3",
   "version": "3.7.4-final"
  },
  "orig_nbformat": 2,
  "kernelspec": {
   "name": "python3",
   "display_name": "Python 3"
  }
 },
 "nbformat": 4,
 "nbformat_minor": 2,
 "cells": [
  {
   "source": [
    "# Introduction to time series analysis and forecasting\n",
    "\n",
    "The dataset consists of multipe time series representing an aggregated number of daily views for multiple Wikipedia articles, starting from July, 1st, 2015 up until August 2Oth, 2017.\n",
    "\n"
   ],
   "cell_type": "markdown",
   "metadata": {}
  },
  {
   "cell_type": "code",
   "execution_count": null,
   "metadata": {},
   "outputs": [],
   "source": [
    "import pandas as pd\n",
    "import numpy as np\n",
    "import matplotlib.pyplot as plt\n",
    "import os\n",
    "from main.utils.utils_methods import clean\n",
    "plt.rcParams['figure.figsize'] = [10, 5]\n"
   ]
  },
  {
   "cell_type": "code",
   "execution_count": null,
   "metadata": {},
   "outputs": [],
   "source": [
    "# Import the 90 traffiic time series\n",
    "data = pd.read_csv(\"../compet_data/public/train.csv\", index_col = \"Day\", parse_dates = True)\n",
    "data = data.asfreq(\"D\")\n",
    "data.head()"
   ]
  },
  {
   "cell_type": "code",
   "execution_count": null,
   "metadata": {},
   "outputs": [],
   "source": [
    "# Choose the time series to work with: \"series-1\", \"series-2\", ..., \"series-90\" \n",
    "myts = \"series-10\"\n",
    "DT = data[myts]\n",
    "DT.plot()\n"
   ]
  },
  {
   "cell_type": "code",
   "execution_count": null,
   "metadata": {},
   "outputs": [],
   "source": [
    "    series = DT\n",
    "    series_cleaned_1, outliers_1 = clean(series)\n",
    "    series_cleaned_2, outliers_2 = clean(series_cleaned_1)\n",
    "\n",
    "    plt.subplot(3, 1, 1)\n",
    "    plt.plot(series)\n",
    "    plt.plot(series.loc[outliers_1], 'ro')\n",
    "\n",
    "    plt.subplot(3, 1, 2)\n",
    "    plt.plot(series_cleaned_1)\n",
    "    plt.plot(series_cleaned_1.loc[outliers_2], 'ro')\n",
    "\n",
    "    plt.subplot(3, 1, 3)\n",
    "    plt.plot(series_cleaned_2)"
   ]
  },
  {
   "cell_type": "code",
   "execution_count": null,
   "metadata": {},
   "outputs": [],
   "source": [
    "# Handle outliers\n",
    "DT_cleaned_1, _ = clean(DT)\n",
    "DT_cleaned_2, _ = clean(DT_cleaned_1)\n",
    "DT.loc[:] = DT_cleaned_2\n",
    "DT.plot()\n"
   ]
  },
  {
   "source": [
    "Read the code associated to the function \"clean\", and briefly describe what it is doing."
   ],
   "cell_type": "markdown",
   "metadata": {}
  },
  {
   "cell_type": "code",
   "execution_count": null,
   "metadata": {},
   "outputs": [],
   "source": [
    "DT = DT.to_frame()\n",
    "DT[\"d\"] = data.index.day.to_numpy()\n",
    "DT[\"m\"] = data.index.month.to_numpy()\n",
    "DT[\"y\"] = data.index.year.to_numpy()\n",
    "DT[\"w\"] = data.index.weekday.to_numpy()\n",
    "DT[\"wy\"] = data.index.weekofyear.to_numpy()\n",
    "DT.head()"
   ]
  },
  {
   "cell_type": "code",
   "execution_count": null,
   "metadata": {},
   "outputs": [],
   "source": [
    "# Seasonal plots\n",
    "## Day of the month\n",
    "patterns_day_month = DT[[myts, \"d\", \"m\", \"y\"]].pivot_table(index=['d'], columns=['m', 'y'])\n",
    "plt.plot(patterns_day_month)\n",
    "plt.show()\n",
    "#patterns_day_month = patterns_day_month.div(patterns_day_month.median(axis=1), axis=0)\n",
    "avg_day_month = np.nanmean(patterns_day_month, axis = 1)\n",
    "std_day_month = np.nanstd(patterns_day_month, axis = 1)\n",
    "plt.plot(pd.DataFrame({\"avg\": avg_day_month, \"std+\": avg_day_month +  std_day_month, \"std-\": avg_day_month -  std_day_month}))\n",
    "plt.show()"
   ]
  },
  {
   "source": [
    "Using the previous code, produce a seasonal plot for the day of the week."
   ],
   "cell_type": "markdown",
   "metadata": {}
  },
  {
   "cell_type": "code",
   "execution_count": null,
   "metadata": {},
   "outputs": [],
   "source": [
    "# Seasonal plots\n",
    "## Day of the week\n",
    "patterns_day_week = DT[[myts, \"wy\", \"y\", \"w\"]].pivot_table(index=['w'], columns=['wy', 'y'])\n",
    "plt.plot(patterns_day_week)\n",
    "#patterns_day_week = patterns_day_week.div(patterns_day_week.median(axis=1), axis=0)\n",
    "avg_day_week = np.nanmean(patterns_day_week, axis = 1)\n",
    "std_day_week = np.nanstd(patterns_day_week, axis = 1)\n",
    "pd.DataFrame({\"avg\": avg_day_week, \"std+\": avg_day_week +  std_day_week, \"std-\": avg_day_week -  std_day_week}).plot()\n",
    "plt.show()"
   ]
  },
  {
   "source": [
    "Produce lagged scatterplots for multiple lags. What do you observe? Add the diagonal for a better visualization."
   ],
   "cell_type": "markdown",
   "metadata": {}
  },
  {
   "cell_type": "code",
   "execution_count": null,
   "metadata": {},
   "outputs": [],
   "source": [
    "# Lag plot\n",
    "\n",
    "def lag_plot(series, lag = -1, ls = 'r.'):\n",
    "    y_lag = series.shift(lag)\n",
    "    plt.plot(series, series, 'b-')\n",
    "    plt.plot(y_lag, series, ls)\n",
    "    plt.show()\n",
    "\n",
    "lag_plot(DT[myts], lag = 1)\n",
    "lag_plot(DT[myts], lag = 1, ls = 'r-')\n",
    "lag_plot(DT[myts], lag = 3)\n",
    "lag_plot(DT[myts], lag = 7)\n",
    "\n",
    "DT[myts].shift(1)"
   ]
  },
  {
   "source": [
    "## Autocorrelation\n",
    "Plot the autocorrelation function (ACF) for the first 20 lags, and interpret the results. \n",
    "Recompute the ACF after applying a seasonal difference. \n",
    "\n",
    "\n"
   ],
   "cell_type": "markdown",
   "metadata": {}
  },
  {
   "cell_type": "code",
   "execution_count": null,
   "metadata": {},
   "outputs": [],
   "source": [
    "from statsmodels.tsa.stattools import acf \n",
    "from statsmodels.graphics.tsaplots import plot_acf\n",
    "\n",
    "plot_acf(DT[myts], lags= 20, alpha=0.05)\n",
    "plt.show()\n",
    "plot_acf(np.diff(DT[myts], 7), lags= 20, alpha=0.05)\n",
    "plt.show()\n",
    "print(acf(DT[myts]))"
   ]
  },
  {
   "cell_type": "code",
   "execution_count": null,
   "metadata": {},
   "outputs": [],
   "source": [
    "from statsmodels.stats.diagnostic import acorr_ljungbox\n",
    "acorr_ljungbox(DT[myts], period = 7)\n"
   ]
  },
  {
   "source": [
    "## White noise process\n",
    "\n",
    "- Generate a time series with 500 observations from a white noise process with zero mean and unit standard deviation.\n",
    "- Plot the tiime series\n",
    "- Compute and plot the ACF for 50 lags\n",
    "- Did you expect to see such results? Why?\n",
    "\n"
   ],
   "cell_type": "markdown",
   "metadata": {}
  },
  {
   "cell_type": "code",
   "execution_count": null,
   "metadata": {},
   "outputs": [],
   "source": [
    "\n",
    "white_noise = np.random.normal(loc=0, scale=1, size=500)\n",
    "plt.plot(white_noise)\n",
    "plot_acf(white_noise, lags=50)\n",
    "acorr_ljungbox(white_noise)"
   ]
  },
  {
   "source": [
    "## Transformations"
   ],
   "cell_type": "markdown",
   "metadata": {}
  },
  {
   "source": [
    "Compute various Box-Cox transformations. Which one do you think is more appropriate?"
   ],
   "cell_type": "markdown",
   "metadata": {}
  },
  {
   "cell_type": "code",
   "execution_count": null,
   "metadata": {},
   "outputs": [],
   "source": [
    "DT[myts].transform(lambda x: x ** 0.5).plot()\n",
    "plt.show()\n",
    "DT[myts].transform(lambda x: x ** 0.333).plot()\n",
    "plt.show()\n",
    "DT[myts].transform(lambda x: np.log(x)).plot()\n"
   ]
  },
  {
   "cell_type": "code",
   "execution_count": null,
   "metadata": {},
   "outputs": [],
   "source": [
    "from scipy.stats import boxcox\n",
    "x, opt_lambda = boxcox(DT[myts])\n",
    "print(opt_lambda)\n",
    "plt.plot(x)"
   ]
  },
  {
   "source": [
    "## Time series decomposition \n"
   ],
   "cell_type": "markdown",
   "metadata": {}
  },
  {
   "source": [
    "Decompose the time series into trend, seasonal and remainder components. Does it help you to understand the data?"
   ],
   "cell_type": "markdown",
   "metadata": {}
  },
  {
   "cell_type": "code",
   "execution_count": null,
   "metadata": {},
   "outputs": [],
   "source": [
    "from statsmodels.tsa.seasonal import seasonal_decompose\n",
    "result = seasonal_decompose(DT[myts])\n",
    "result.plot()\n",
    "# print(result.trend)\n",
    "# print(result.seasonal)\n",
    "# print(result.resid)"
   ]
  },
  {
   "cell_type": "code",
   "execution_count": null,
   "metadata": {},
   "outputs": [],
   "source": [
    "# STL decomposition\n",
    "from statsmodels.tsa.seasonal import STL\n",
    "stl = STL(DT[myts], period = 7, robust = True, seasonal = 7*100 + 1)\n",
    "result = stl.fit()\n",
    "fig = result.plot()\n",
    "plt.show()\n",
    "\n",
    "# Deaseasonlized data\n",
    "deaseasonlized_data = result.trend + result.resid\n",
    "deaseasonlized_data.plot()\n",
    "plt.show()\n",
    "\n",
    "\n",
    "#\n",
    "np.log(deaseasonlized_data).plot()\n",
    "plt.show()\n",
    "np.log(deaseasonlized_data).diff().plot()\n",
    "plt.show()\n",
    "\n",
    "# \n",
    "deaseasonlized_data.diff(7).plot()\n",
    "plt.show()\n",
    "\n"
   ]
  },
  {
   "source": [
    "Produce forecasts for the next 21 days using simple methods. Analyze the residuals. Compare the forecast accuracy for different accuracy measures."
   ],
   "cell_type": "markdown",
   "metadata": {}
  },
  {
   "cell_type": "code",
   "execution_count": null,
   "metadata": {},
   "outputs": [],
   "source": [
    "HORIZON = 21\n",
    "\n",
    "series = DT[myts]\n",
    "series_train = series[:-21]\n",
    "series_test = series[-21:]\n",
    "plt.plot(series_test)\n",
    "\n",
    "\n",
    "# Mean\n",
    "meanf = series_train.mean()\n",
    "\n",
    "## Training set\n",
    "df_resid = (series_train- meanf)\n",
    "plt.close()\n",
    "plt.hist( df_resid.values )\n",
    "\n"
   ]
  },
  {
   "cell_type": "code",
   "execution_count": null,
   "metadata": {},
   "outputs": [],
   "source": [
    "HORIZON = 21\n",
    "\n",
    "series = DT[myts]\n",
    "series_train = series[:-21]\n",
    "series_test = series[-21:]\n",
    "plt.plot(series_train)\n",
    "plt.plot(series_test)"
   ]
  },
  {
   "cell_type": "code",
   "execution_count": null,
   "metadata": {},
   "outputs": [],
   "source": [
    "#x = [(i, i-7) for i in range(7, len(series_train)) ]\n",
    "#print(x[:14])\n",
    "fit_snaive = [series_train[i-7] for i in range(7, len(series_train)) ]\n",
    "fit_snaive = fit_snaive + list(series_train[:7].values)\n",
    "len(fit_snaive)\n"
   ]
  },
  {
   "cell_type": "code",
   "execution_count": null,
   "metadata": {},
   "outputs": [],
   "source": [
    "# Residuals (in-sample one-step ahead predictions)\n",
    "\n",
    "## Mean forecasts\n",
    "fit_mean = [series_train[:i].mean() for i in range(0, len(series_train)) ]\n",
    "resid_mean = series_train.values - fit_mean\n",
    "\n",
    "## Naive forecasts\n",
    "fit_naive = [series_train[i-1] for i in range(1, len(series_train)) ]\n",
    "fit_naive.insert(0, series_train[0])\n",
    "resid_naive = series_train.values - fit_naive\n",
    "\n",
    "## Seasonal naive forecasts\n",
    "fit_snaive = [series_train[i-7] for i in range(7, len(series_train)) ]\n",
    "fit_snaive = list(series_train[:7].values) + fit_snaive\n",
    "resid_snaive = series_train.values - fit_snaive\n",
    "\n",
    "## Plots\n",
    "plt.figure()\n",
    "plt.hist(resid_mean, alpha=0.2, label='mean', color='orange')\n",
    "plt.figure()\n",
    "plt.hist(resid_naive, alpha=0.2, label='naive', color='green')\n",
    "plt.figure()\n",
    "plt.hist(resid_snaive, alpha=0.2, label='snaive', color='red')\n",
    "plt.legend(loc='upper right')\n",
    "\n",
    "\n",
    "fit_mean = pd.DataFrame(fit_mean, index = series_train.index)\n",
    "fit_naive = pd.DataFrame(fit_naive, index = series_train.index)\n",
    "fit_snaive = pd.DataFrame(fit_snaive, index = series_train.index)\n",
    "\n",
    "\n",
    "plt.figure()\n",
    "plt.plot(series_train)\n",
    "plt.plot(fit_mean, color='orange')\n",
    "\n",
    "plt.figure()\n",
    "plt.plot(series_train)\n",
    "plt.plot(fit_naive, color='green')\n",
    "\n",
    "plt.figure()\n",
    "plt.plot(series_train)\n",
    "plt.plot(fit_snaive, color='red')\n"
   ]
  },
  {
   "cell_type": "code",
   "execution_count": null,
   "metadata": {},
   "outputs": [],
   "source": [
    "# Out-of-sample forecasts\n",
    "\n",
    "future = series[-21:]\n",
    "\n",
    "## Mean\n",
    "f_mean = pd.DataFrame([meanf for h in range(0, HORIZON) ], index = future.index)\n",
    "\n",
    "## Naive\n",
    "f_naive = pd.DataFrame([series_train[-1] for h in range(0, HORIZON) ], index = future.index)\n",
    "\n",
    "## Seasonal naive\n",
    "f_snaive = [series_train[-HORIZON+h] for h in range(0, HORIZON) ]\n",
    "f_snaive = pd.DataFrame(f_snaive, index = future.index)\n",
    "\n",
    "plt.plot(future, label='true')\n",
    "plt.plot(f_mean, label='mean')\n",
    "plt.plot(f_naive, label='naive')\n",
    "plt.plot(f_snaive, label='snaive')\n",
    "plt.legend(loc='upper right')\n",
    "\n"
   ]
  },
  {
   "cell_type": "code",
   "execution_count": null,
   "metadata": {
    "tags": []
   },
   "outputs": [],
   "source": [
    "from main.utils.utils import *\n",
    "\n",
    "print(smape(future.values, f_mean.values))\n",
    "print(smape(future.values, f_naive.values))\n",
    "print(smape(future.values, f_snaive.values))\n",
    "print(\"----\")\n",
    "print(mape(future.values, f_mean.values))\n",
    "print(mape(future.values, f_naive.values))\n",
    "print(mape(future.values, f_snaive.values))"
   ]
  }
 ]
}